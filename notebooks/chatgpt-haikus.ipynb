{
 "cells": [
  {
   "cell_type": "code",
   "execution_count": 29,
   "metadata": {},
   "outputs": [],
   "source": [
    "#!conda install pandas\n",
    "import pandas as pd\n",
    "import json\n",
    "import glob"
   ]
  },
  {
   "cell_type": "code",
   "execution_count": 84,
   "metadata": {},
   "outputs": [],
   "source": [
    "def clean_haikus(gpt_response):\n",
    "    haikus = gpt_response[\"choices\"][0][\"message\"][\"content\"]\n",
    "    haikus = haikus.split(\"\\n\\n\")[1:]\n",
    "    cleaned_haikus = []\n",
    "    for h in haikus:\n",
    "        cleaned_haikus.append(h.lstrip(\"0123456789.-\\n\").replace(\"\\n\", \" \\n \"))\n",
    "    return cleaned_haikus"
   ]
  },
  {
   "cell_type": "code",
   "execution_count": 85,
   "metadata": {},
   "outputs": [],
   "source": [
    "gpt_response_files = glob.glob(\"../data/gpt_generated/*.json\")\n",
    "aggregate_haikus = []\n",
    "for filename in gpt_response_files:\n",
    "    with open(filename, \"r\") as f:\n",
    "        gpt_response = json.load(f)\n",
    "    cleaned_haikus = clean_haikus(gpt_response)\n",
    "    aggregate_haikus += cleaned_haikus"
   ]
  },
  {
   "cell_type": "code",
   "execution_count": 86,
   "metadata": {},
   "outputs": [
    {
     "data": {
      "text/plain": [
       "11"
      ]
     },
     "execution_count": 86,
     "metadata": {},
     "output_type": "execute_result"
    }
   ],
   "source": [
    "len(aggregate_haikus)"
   ]
  },
  {
   "cell_type": "code",
   "execution_count": 87,
   "metadata": {},
   "outputs": [
    {
     "data": {
      "text/plain": [
       "['Majestic felines, \\n Prowling through the night with grace, \\n Purring by the fire.',\n",
       " 'Furry feline friend \\n Purring quietly at night \\n So peaceful and warm',\n",
       " \"Graceful and agile \\n Leaping from couch to table \\n Cat's acrobatics\",\n",
       " 'Eyes like glowing gold \\n Slit against the sunny day \\n Slinking away fast',\n",
       " 'Curled up in a ball \\n Sleeping soundly on my lap \\n Heavenly cat nap',\n",
       " 'Easily startled \\n Whiskers twitching in the air \\n Victorious hunter',\n",
       " \"Playful and frisky \\n Knocking things off of tables \\n Cat's mischievousness\",\n",
       " 'Flicking tail of grey \\n Creeping through the autumn grass \\n Cat on the prowl',\n",
       " 'Purring in my ear \\n Softly kneading with her paws \\n Loving, loyal cat',\n",
       " 'Inquisitive eyes \\n Watching from a high vantage \\n Ancient feline soul',\n",
       " 'Basking in the sun \\n Contented and so at ease \\n Lazy, happy cat']"
      ]
     },
     "execution_count": 87,
     "metadata": {},
     "output_type": "execute_result"
    }
   ],
   "source": [
    "aggregate_haikus"
   ]
  },
  {
   "cell_type": "code",
   "execution_count": 59,
   "metadata": {},
   "outputs": [],
   "source": [
    "with open(\"../data/gpt_generated/haikus_1.json\", \"r\") as f:\n",
    "    gpt_response_1 = json.load(f)\n",
    "\n",
    "with open(\"../data/gpt_generated/haikus_10.json\", \"r\") as f:\n",
    "    gpt_response_10 = json.load(f)"
   ]
  },
  {
   "cell_type": "code",
   "execution_count": 60,
   "metadata": {},
   "outputs": [
    {
     "data": {
      "text/plain": [
       "{'id': 'chatcmpl-6uyKWcVNG54Npf3qsItXI7mqfRzoE',\n",
       " 'object': 'chat.completion',\n",
       " 'created': 1679036296,\n",
       " 'model': 'gpt-3.5-turbo-0301',\n",
       " 'usage': {'prompt_tokens': 13, 'completion_tokens': 22, 'total_tokens': 35},\n",
       " 'choices': [{'message': {'role': 'assistant',\n",
       "    'content': '\\n\\nMajestic felines,\\nProwling through the night with grace,\\nPurring by the fire.'},\n",
       "   'finish_reason': 'stop',\n",
       "   'index': 0}]}"
      ]
     },
     "execution_count": 60,
     "metadata": {},
     "output_type": "execute_result"
    }
   ],
   "source": [
    "gpt_response_1"
   ]
  },
  {
   "cell_type": "code",
   "execution_count": 61,
   "metadata": {},
   "outputs": [
    {
     "data": {
      "text/plain": [
       "{'id': 'chatcmpl-6uyUUxLEE39aNVQGSFBSdvC6mMViY',\n",
       " 'object': 'chat.completion',\n",
       " 'created': 1679036914,\n",
       " 'model': 'gpt-3.5-turbo-0301',\n",
       " 'usage': {'prompt_tokens': 15, 'completion_tokens': 209, 'total_tokens': 224},\n",
       " 'choices': [{'message': {'role': 'assistant',\n",
       "    'content': \"\\n\\n1.\\nFurry feline friend\\nPurring quietly at night\\nSo peaceful and warm\\n\\n2.\\nGraceful and agile\\nLeaping from couch to table\\nCat's acrobatics\\n\\n3.\\nEyes like glowing gold\\nSlit against the sunny day\\nSlinking away fast\\n\\n4.\\nCurled up in a ball\\nSleeping soundly on my lap\\nHeavenly cat nap\\n\\n5.\\nEasily startled\\nWhiskers twitching in the air\\nVictorious hunter\\n\\n6.\\nPlayful and frisky\\nKnocking things off of tables\\nCat's mischievousness\\n\\n7.\\nFlicking tail of grey\\nCreeping through the autumn grass\\nCat on the prowl\\n\\n8.\\nPurring in my ear\\nSoftly kneading with her paws\\nLoving, loyal cat\\n\\n9.\\nInquisitive eyes\\nWatching from a high vantage\\nAncient feline soul\\n\\n10.\\nBasking in the sun\\nContented and so at ease\\nLazy, happy cat\"},\n",
       "   'finish_reason': 'stop',\n",
       "   'index': 0}]}"
      ]
     },
     "execution_count": 61,
     "metadata": {},
     "output_type": "execute_result"
    }
   ],
   "source": [
    "gpt_response_10"
   ]
  },
  {
   "cell_type": "code",
   "execution_count": 62,
   "metadata": {},
   "outputs": [],
   "source": [
    "haikus = gpt_response_10[\"choices\"][0][\"message\"][\"content\"]"
   ]
  },
  {
   "cell_type": "code",
   "execution_count": 63,
   "metadata": {},
   "outputs": [
    {
     "data": {
      "text/plain": [
       "['',\n",
       " '1.\\nFurry feline friend\\nPurring quietly at night\\nSo peaceful and warm',\n",
       " \"2.\\nGraceful and agile\\nLeaping from couch to table\\nCat's acrobatics\",\n",
       " '3.\\nEyes like glowing gold\\nSlit against the sunny day\\nSlinking away fast',\n",
       " '4.\\nCurled up in a ball\\nSleeping soundly on my lap\\nHeavenly cat nap',\n",
       " '5.\\nEasily startled\\nWhiskers twitching in the air\\nVictorious hunter',\n",
       " \"6.\\nPlayful and frisky\\nKnocking things off of tables\\nCat's mischievousness\",\n",
       " '7.\\nFlicking tail of grey\\nCreeping through the autumn grass\\nCat on the prowl',\n",
       " '8.\\nPurring in my ear\\nSoftly kneading with her paws\\nLoving, loyal cat',\n",
       " '9.\\nInquisitive eyes\\nWatching from a high vantage\\nAncient feline soul',\n",
       " '10.\\nBasking in the sun\\nContented and so at ease\\nLazy, happy cat']"
      ]
     },
     "execution_count": 63,
     "metadata": {},
     "output_type": "execute_result"
    }
   ],
   "source": [
    "haikus.split(\"\\n\\n\")"
   ]
  },
  {
   "cell_type": "code",
   "execution_count": 64,
   "metadata": {},
   "outputs": [
    {
     "data": {
      "text/plain": [
       "10"
      ]
     },
     "execution_count": 64,
     "metadata": {},
     "output_type": "execute_result"
    }
   ],
   "source": [
    "haikus = haikus.split(\"\\n\\n\")[1:]\n",
    "len(haikus)"
   ]
  },
  {
   "cell_type": "code",
   "execution_count": 66,
   "metadata": {},
   "outputs": [],
   "source": [
    "cleaned_haikus = []\n",
    "for h in haikus:\n",
    "    cleaned_haikus.append(h.lstrip(\"0123456789.-\"))"
   ]
  },
  {
   "cell_type": "code",
   "execution_count": 67,
   "metadata": {},
   "outputs": [
    {
     "data": {
      "text/plain": [
       "['\\nFurry feline friend\\nPurring quietly at night\\nSo peaceful and warm',\n",
       " \"\\nGraceful and agile\\nLeaping from couch to table\\nCat's acrobatics\",\n",
       " '\\nEyes like glowing gold\\nSlit against the sunny day\\nSlinking away fast',\n",
       " '\\nCurled up in a ball\\nSleeping soundly on my lap\\nHeavenly cat nap',\n",
       " '\\nEasily startled\\nWhiskers twitching in the air\\nVictorious hunter',\n",
       " \"\\nPlayful and frisky\\nKnocking things off of tables\\nCat's mischievousness\",\n",
       " '\\nFlicking tail of grey\\nCreeping through the autumn grass\\nCat on the prowl',\n",
       " '\\nPurring in my ear\\nSoftly kneading with her paws\\nLoving, loyal cat',\n",
       " '\\nInquisitive eyes\\nWatching from a high vantage\\nAncient feline soul',\n",
       " '\\nBasking in the sun\\nContented and so at ease\\nLazy, happy cat']"
      ]
     },
     "execution_count": 67,
     "metadata": {},
     "output_type": "execute_result"
    }
   ],
   "source": [
    "cleaned_haikus"
   ]
  },
  {
   "cell_type": "code",
   "execution_count": 68,
   "metadata": {},
   "outputs": [],
   "source": [
    "c2 = ['\\nFurry feline friend\\nPurring quietly at night\\nSo peaceful and warm',\n",
    " \"\\nGraceful and agile\\nLeaping from couch to table\\nCat's acrobatics\"]\n",
    "c3 = ['\\nFurry feline friend\\nPurring quietly at night\\nSo peaceful and warm',\n",
    " \"\\nGraceful and agile\\nLeaping from couch to table\\nCat's acrobatics\"]"
   ]
  },
  {
   "cell_type": "code",
   "execution_count": 69,
   "metadata": {},
   "outputs": [],
   "source": [
    "c2 += c3"
   ]
  },
  {
   "cell_type": "code",
   "execution_count": 70,
   "metadata": {},
   "outputs": [
    {
     "data": {
      "text/plain": [
       "['\\nFurry feline friend\\nPurring quietly at night\\nSo peaceful and warm',\n",
       " \"\\nGraceful and agile\\nLeaping from couch to table\\nCat's acrobatics\",\n",
       " '\\nFurry feline friend\\nPurring quietly at night\\nSo peaceful and warm',\n",
       " \"\\nGraceful and agile\\nLeaping from couch to table\\nCat's acrobatics\"]"
      ]
     },
     "execution_count": 70,
     "metadata": {},
     "output_type": "execute_result"
    }
   ],
   "source": [
    "c2"
   ]
  },
  {
   "cell_type": "code",
   "execution_count": 40,
   "metadata": {},
   "outputs": [],
   "source": [
    "aggregate_haikus = cleaned_haikus + c2"
   ]
  },
  {
   "cell_type": "code",
   "execution_count": 41,
   "metadata": {},
   "outputs": [
    {
     "data": {
      "text/plain": [
       "['\\nFurry feline friend\\nPurring quietly at night\\nSo peaceful and warm',\n",
       " \"\\nGraceful and agile\\nLeaping from couch to table\\nCat's acrobatics\",\n",
       " '\\nEyes like glowing gold\\nSlit against the sunny day\\nSlinking away fast',\n",
       " '\\nCurled up in a ball\\nSleeping soundly on my lap\\nHeavenly cat nap',\n",
       " '\\nEasily startled\\nWhiskers twitching in the air\\nVictorious hunter',\n",
       " \"\\nPlayful and frisky\\nKnocking things off of tables\\nCat's mischievousness\",\n",
       " '\\nFlicking tail of grey\\nCreeping through the autumn grass\\nCat on the prowl',\n",
       " '\\nPurring in my ear\\nSoftly kneading with her paws\\nLoving, loyal cat',\n",
       " '\\nInquisitive eyes\\nWatching from a high vantage\\nAncient feline soul',\n",
       " '.\\nBasking in the sun\\nContented and so at ease\\nLazy, happy cat',\n",
       " '\\nFurry feline friend\\nPurring quietly at night\\nSo peaceful and warm',\n",
       " \"\\nGraceful and agile\\nLeaping from couch to table\\nCat's acrobatics\"]"
      ]
     },
     "execution_count": 41,
     "metadata": {},
     "output_type": "execute_result"
    }
   ],
   "source": [
    "aggregate_haikus"
   ]
  },
  {
   "cell_type": "code",
   "execution_count": 42,
   "metadata": {},
   "outputs": [],
   "source": [
    "aa = ['9.\\nInquisitive eyes\\nWatching from a high vantage\\nAncient feline soul',\n",
    " '10.\\nBasking in the sun\\nContented and so at ease\\nLazy, happy cat']\n",
    "a = '9.\\nInquisitive eyes\\nWatching from a high vantage\\nAncient feline soul'\n",
    "b = '10.\\nBasking in the sun\\nContented and so at ease\\nLazy, happy cat'"
   ]
  },
  {
   "cell_type": "code",
   "execution_count": 45,
   "metadata": {},
   "outputs": [
    {
     "data": {
      "text/plain": [
       "'\\nInquisitive eyes\\nWatching from a high vantage\\nAncient feline soul'"
      ]
     },
     "execution_count": 45,
     "metadata": {},
     "output_type": "execute_result"
    }
   ],
   "source": [
    "a.lstrip(\"^[0-9].\")"
   ]
  },
  {
   "cell_type": "code",
   "execution_count": 79,
   "metadata": {},
   "outputs": [
    {
     "data": {
      "text/plain": [
       "'Basking in the sun\\nContented and so at ease\\nLazy, happy cat'"
      ]
     },
     "execution_count": 79,
     "metadata": {},
     "output_type": "execute_result"
    }
   ],
   "source": [
    "b.lstrip(\"0123456789.-\\n\")"
   ]
  },
  {
   "cell_type": "code",
   "execution_count": null,
   "metadata": {},
   "outputs": [],
   "source": []
  }
 ],
 "metadata": {
  "kernelspec": {
   "display_name": "DataScience",
   "language": "python",
   "name": "python3"
  },
  "language_info": {
   "codemirror_mode": {
    "name": "ipython",
    "version": 3
   },
   "file_extension": ".py",
   "mimetype": "text/x-python",
   "name": "python",
   "nbconvert_exporter": "python",
   "pygments_lexer": "ipython3",
   "version": "3.8.16"
  },
  "orig_nbformat": 4
 },
 "nbformat": 4,
 "nbformat_minor": 2
}
