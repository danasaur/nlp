{
 "cells": [
  {
   "cell_type": "code",
   "execution_count": 29,
   "metadata": {},
   "outputs": [],
   "source": [
    "#!conda install pandas\n",
    "import pandas as pd\n",
    "import json\n",
    "import glob"
   ]
  },
  {
   "cell_type": "code",
   "execution_count": 89,
   "metadata": {},
   "outputs": [],
   "source": [
    "def clean_haikus(gpt_response):\n",
    "    haikus = gpt_response[\"choices\"][0][\"message\"][\"content\"]\n",
    "    haikus = haikus.split(\"\\n\\n\")[1:]\n",
    "    cleaned_haikus = []\n",
    "    for h in haikus:\n",
    "        cleaned_haikus.append(h.lstrip(\"0123456789.-\\n\").replace(\"\\n\", \" \\n \"))\n",
    "    return cleaned_haikus\n",
    "\n",
    "def aggregate_haikus():\n",
    "    gpt_response_files = glob.glob(\"../data/gpt_generated/*.json\")\n",
    "    aggregate_haikus = []\n",
    "    for filename in gpt_response_files:\n",
    "        with open(filename, \"r\") as f:\n",
    "            gpt_response = json.load(f)\n",
    "        cleaned_haikus = clean_haikus(gpt_response)\n",
    "        aggregate_haikus += cleaned_haikus\n",
    "    return aggregate_haikus"
   ]
  },
  {
   "cell_type": "code",
   "execution_count": 90,
   "metadata": {},
   "outputs": [],
   "source": [
    "aggregate_haikus = aggregate_haikus()"
   ]
  },
  {
   "cell_type": "code",
   "execution_count": 91,
   "metadata": {},
   "outputs": [
    {
     "data": {
      "text/plain": [
       "11"
      ]
     },
     "execution_count": 91,
     "metadata": {},
     "output_type": "execute_result"
    }
   ],
   "source": [
    "len(aggregate_haikus)"
   ]
  },
  {
   "cell_type": "code",
   "execution_count": 92,
   "metadata": {},
   "outputs": [
    {
     "data": {
      "text/plain": [
       "['Majestic felines, \\n Prowling through the night with grace, \\n Purring by the fire.',\n",
       " 'Furry feline friend \\n Purring quietly at night \\n So peaceful and warm',\n",
       " \"Graceful and agile \\n Leaping from couch to table \\n Cat's acrobatics\",\n",
       " 'Eyes like glowing gold \\n Slit against the sunny day \\n Slinking away fast',\n",
       " 'Curled up in a ball \\n Sleeping soundly on my lap \\n Heavenly cat nap',\n",
       " 'Easily startled \\n Whiskers twitching in the air \\n Victorious hunter',\n",
       " \"Playful and frisky \\n Knocking things off of tables \\n Cat's mischievousness\",\n",
       " 'Flicking tail of grey \\n Creeping through the autumn grass \\n Cat on the prowl',\n",
       " 'Purring in my ear \\n Softly kneading with her paws \\n Loving, loyal cat',\n",
       " 'Inquisitive eyes \\n Watching from a high vantage \\n Ancient feline soul',\n",
       " 'Basking in the sun \\n Contented and so at ease \\n Lazy, happy cat']"
      ]
     },
     "execution_count": 92,
     "metadata": {},
     "output_type": "execute_result"
    }
   ],
   "source": [
    "aggregate_haikus"
   ]
  },
  {
   "cell_type": "code",
   "execution_count": 94,
   "metadata": {},
   "outputs": [],
   "source": [
    "df = pd.DataFrame({\"text\": aggregate_haikus})"
   ]
  },
  {
   "cell_type": "code",
   "execution_count": 96,
   "metadata": {},
   "outputs": [],
   "source": [
    "df[\"label_str\"] = \"gpt-3.5-turbo\""
   ]
  },
  {
   "cell_type": "code",
   "execution_count": 98,
   "metadata": {},
   "outputs": [],
   "source": [
    "df[\"label\"] = 0"
   ]
  },
  {
   "cell_type": "code",
   "execution_count": 99,
   "metadata": {},
   "outputs": [
    {
     "data": {
      "text/html": [
       "<div>\n",
       "<style scoped>\n",
       "    .dataframe tbody tr th:only-of-type {\n",
       "        vertical-align: middle;\n",
       "    }\n",
       "\n",
       "    .dataframe tbody tr th {\n",
       "        vertical-align: top;\n",
       "    }\n",
       "\n",
       "    .dataframe thead th {\n",
       "        text-align: right;\n",
       "    }\n",
       "</style>\n",
       "<table border=\"1\" class=\"dataframe\">\n",
       "  <thead>\n",
       "    <tr style=\"text-align: right;\">\n",
       "      <th></th>\n",
       "      <th>text</th>\n",
       "      <th>label_str</th>\n",
       "      <th>label</th>\n",
       "    </tr>\n",
       "  </thead>\n",
       "  <tbody>\n",
       "    <tr>\n",
       "      <th>0</th>\n",
       "      <td>Majestic felines, \\n Prowling through the nigh...</td>\n",
       "      <td>gpt-3.5-turbo</td>\n",
       "      <td>0</td>\n",
       "    </tr>\n",
       "    <tr>\n",
       "      <th>1</th>\n",
       "      <td>Furry feline friend \\n Purring quietly at nigh...</td>\n",
       "      <td>gpt-3.5-turbo</td>\n",
       "      <td>0</td>\n",
       "    </tr>\n",
       "    <tr>\n",
       "      <th>2</th>\n",
       "      <td>Graceful and agile \\n Leaping from couch to ta...</td>\n",
       "      <td>gpt-3.5-turbo</td>\n",
       "      <td>0</td>\n",
       "    </tr>\n",
       "    <tr>\n",
       "      <th>3</th>\n",
       "      <td>Eyes like glowing gold \\n Slit against the sun...</td>\n",
       "      <td>gpt-3.5-turbo</td>\n",
       "      <td>0</td>\n",
       "    </tr>\n",
       "    <tr>\n",
       "      <th>4</th>\n",
       "      <td>Curled up in a ball \\n Sleeping soundly on my ...</td>\n",
       "      <td>gpt-3.5-turbo</td>\n",
       "      <td>0</td>\n",
       "    </tr>\n",
       "    <tr>\n",
       "      <th>5</th>\n",
       "      <td>Easily startled \\n Whiskers twitching in the a...</td>\n",
       "      <td>gpt-3.5-turbo</td>\n",
       "      <td>0</td>\n",
       "    </tr>\n",
       "    <tr>\n",
       "      <th>6</th>\n",
       "      <td>Playful and frisky \\n Knocking things off of t...</td>\n",
       "      <td>gpt-3.5-turbo</td>\n",
       "      <td>0</td>\n",
       "    </tr>\n",
       "    <tr>\n",
       "      <th>7</th>\n",
       "      <td>Flicking tail of grey \\n Creeping through the ...</td>\n",
       "      <td>gpt-3.5-turbo</td>\n",
       "      <td>0</td>\n",
       "    </tr>\n",
       "    <tr>\n",
       "      <th>8</th>\n",
       "      <td>Purring in my ear \\n Softly kneading with her ...</td>\n",
       "      <td>gpt-3.5-turbo</td>\n",
       "      <td>0</td>\n",
       "    </tr>\n",
       "    <tr>\n",
       "      <th>9</th>\n",
       "      <td>Inquisitive eyes \\n Watching from a high vanta...</td>\n",
       "      <td>gpt-3.5-turbo</td>\n",
       "      <td>0</td>\n",
       "    </tr>\n",
       "    <tr>\n",
       "      <th>10</th>\n",
       "      <td>Basking in the sun \\n Contented and so at ease...</td>\n",
       "      <td>gpt-3.5-turbo</td>\n",
       "      <td>0</td>\n",
       "    </tr>\n",
       "  </tbody>\n",
       "</table>\n",
       "</div>"
      ],
      "text/plain": [
       "                                                 text      label_str  label\n",
       "0   Majestic felines, \\n Prowling through the nigh...  gpt-3.5-turbo      0\n",
       "1   Furry feline friend \\n Purring quietly at nigh...  gpt-3.5-turbo      0\n",
       "2   Graceful and agile \\n Leaping from couch to ta...  gpt-3.5-turbo      0\n",
       "3   Eyes like glowing gold \\n Slit against the sun...  gpt-3.5-turbo      0\n",
       "4   Curled up in a ball \\n Sleeping soundly on my ...  gpt-3.5-turbo      0\n",
       "5   Easily startled \\n Whiskers twitching in the a...  gpt-3.5-turbo      0\n",
       "6   Playful and frisky \\n Knocking things off of t...  gpt-3.5-turbo      0\n",
       "7   Flicking tail of grey \\n Creeping through the ...  gpt-3.5-turbo      0\n",
       "8   Purring in my ear \\n Softly kneading with her ...  gpt-3.5-turbo      0\n",
       "9   Inquisitive eyes \\n Watching from a high vanta...  gpt-3.5-turbo      0\n",
       "10  Basking in the sun \\n Contented and so at ease...  gpt-3.5-turbo      0"
      ]
     },
     "execution_count": 99,
     "metadata": {},
     "output_type": "execute_result"
    }
   ],
   "source": [
    "df"
   ]
  },
  {
   "cell_type": "code",
   "execution_count": null,
   "metadata": {},
   "outputs": [],
   "source": []
  }
 ],
 "metadata": {
  "kernelspec": {
   "display_name": "DataScience",
   "language": "python",
   "name": "python3"
  },
  "language_info": {
   "codemirror_mode": {
    "name": "ipython",
    "version": 3
   },
   "file_extension": ".py",
   "mimetype": "text/x-python",
   "name": "python",
   "nbconvert_exporter": "python",
   "pygments_lexer": "ipython3",
   "version": "3.8.16"
  },
  "orig_nbformat": 4
 },
 "nbformat": 4,
 "nbformat_minor": 2
}
