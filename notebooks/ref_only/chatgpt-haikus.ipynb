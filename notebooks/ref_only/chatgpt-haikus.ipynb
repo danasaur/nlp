{
 "cells": [
  {
   "cell_type": "code",
   "execution_count": 110,
   "metadata": {},
   "outputs": [],
   "source": [
    "#!conda install pandas\n",
    "import pandas as pd\n",
    "import json\n",
    "import glob"
   ]
  },
  {
   "cell_type": "code",
   "execution_count": 111,
   "metadata": {},
   "outputs": [],
   "source": [
    "def clean_haikus(gpt_response):\n",
    "    haikus = gpt_response[\"choices\"][0][\"message\"][\"content\"]\n",
    "    haikus = haikus.split(\"\\n\\n\")[1:]\n",
    "    cleaned_haikus = []\n",
    "    for h in haikus:\n",
    "        cleaned_haikus.append(h.lstrip(\"0123456789.-\\n\").replace(\"\\n\", \" \\n \"))\n",
    "    return cleaned_haikus\n",
    "\n",
    "def aggregate_haikus():\n",
    "    gpt_response_files = glob.glob(\"../data/gpt_generated/cat_haikus/*.json\")\n",
    "    aggregate_haikus = []\n",
    "    for filename in gpt_response_files:\n",
    "        with open(filename, \"r\") as f:\n",
    "            gpt_response = json.load(f)\n",
    "        cleaned_haikus = clean_haikus(gpt_response)\n",
    "        aggregate_haikus += cleaned_haikus\n",
    "    return aggregate_haikus"
   ]
  },
  {
   "cell_type": "code",
   "execution_count": 112,
   "metadata": {},
   "outputs": [],
   "source": [
    "aggregate_haikus = aggregate_haikus()"
   ]
  },
  {
   "cell_type": "code",
   "execution_count": 113,
   "metadata": {},
   "outputs": [
    {
     "data": {
      "text/plain": [
       "99"
      ]
     },
     "execution_count": 113,
     "metadata": {},
     "output_type": "execute_result"
    }
   ],
   "source": [
    "len(aggregate_haikus)"
   ]
  },
  {
   "cell_type": "code",
   "execution_count": 114,
   "metadata": {},
   "outputs": [
    {
     "data": {
      "text/plain": [
       "['Graceful feline paws, \\n Silent hunter through the night, \\n Dreaming in the sun.',\n",
       " 'Curled up in a ball, \\n Softly purring on my lap, \\n Contentment ensues.',\n",
       " 'Slender form and tail, \\n Eyes gleam with mischievousness, \\n Crouching to pounce.',\n",
       " 'Whiskers twitching, alert, \\n Ears swiveling in the breeze, \\n Watchful guardian.',\n",
       " 'Cuddly fur and ears, \\n Kitten eyes shining with joy, \\n Sweetest of all sights.',\n",
       " 'Sunbeams on the floor, \\n A sleek feline stretches out, \\n Peaceful and serene.',\n",
       " 'A paw upon my face, \\n A gentle reminder of love, \\n A purr like a sigh.',\n",
       " 'A primal creature, \\n Magnificence and power, \\n A king among beasts.',\n",
       " 'Teasing with a string, \\n Playful antics never end, \\n Endless entertainment.',\n",
       " 'Aging with dignity, \\n The wisdom of long-lived years, \\n Gentle grace and love.',\n",
       " \"Soft fur and bright eyes, \\n Curled up in a sunbeam's glow, \\n Cats sleep, contented.\",\n",
       " \"Graceful as a dance, \\n A cat's lithe, agile movement, \\n Fluid, elegant.\",\n",
       " 'Mysterious eyes, \\n A feline gaze that sees all, \\n Secrets well-kept.',\n",
       " \"Purring like a song, \\n A cat's rumbling rumination, \\n Pure, perfect bliss.\",\n",
       " \"Silent hunter's stare, \\n Intense, unblinking focus, \\n Watchful, natural.\",\n",
       " 'Aloof, independent, \\n Cats choose their own company, \\n Self-contained, serene.',\n",
       " \"Silent vigilance, \\n A cat's tranquil guard duty, \\n Ever watchful eyes.\",\n",
       " 'Playful, mischievous, \\n Cats frolic with youthful glee, \\n Joyful, carefree fun.',\n",
       " \"Sphinx-like enigma, \\n A cat's inscrutable charm, \\n Mesmerizes all.\",\n",
       " 'Companions and friends, \\n Cats bring warmth to our lives, \\n Loyal, loving souls.',\n",
       " 'Purring ball of fur, \\n Eyes slit with satisfaction, \\n Lazy, loving cat.',\n",
       " \"A feline's whiskers, \\n Sway with acrobatic grace, \\n Playing with pure joy.\",\n",
       " \"Fiery amber eyes, \\n Match each sly calculated move, \\n A hunter's honor.\",\n",
       " \"Aloof indifference, \\n Endears every cat's heart, \\n Curled cozy, we dream.\",\n",
       " 'Windswept whisker pads, \\n Sleek and shimmering, we roam, \\n Softly stalking prey.',\n",
       " 'Silent, stealthy paws, \\n Hear whispers in the darkness, \\n Our secrets in dreams.',\n",
       " 'Slipping through city, \\n Trotting over table tops, \\n Feline wonderland.',\n",
       " 'Fierce and feisty friend, \\n Chase squirrels and scratch at trees, \\n My precious feline.',\n",
       " 'Grooming with patience, \\n Licking fur from nose to toes, \\n Silky soft and warm.',\n",
       " 'Majestic beauty, \\n Grooming with utter contempt, \\n Indifference supreme.',\n",
       " 'Purring cat in sun \\n Stretching out on windowsill \\n Peaceful afternoon',\n",
       " 'Eyes of a hunter \\n Soft fur, strong and agile \\n Graceful, fierce and free',\n",
       " 'Sleeping feline form \\n Cuddled up in cozy warmth \\n Dreams of chasing mice',\n",
       " 'Fluffy white kitten \\n Sits atop the curtain rod \\n Gazing at the world',\n",
       " 'Crouching low, she stalks \\n Ears flat as she approaches \\n Target in her sights',\n",
       " 'Whiskers twitch and glow \\n As he sniffs out every inch \\n Of his new domain',\n",
       " 'Kneading kitten paws \\n Purrs vibrate through my lap \\n Contentment complete',\n",
       " 'Slinking through the grass \\n Silent hunter on the hunt \\n Graceful, deadly, wild',\n",
       " 'Soft and gentle touch \\n Cats curled up on laps at night \\n Purring lullabies',\n",
       " 'Curled up in a ball \\n Hiding in a cozy nook \\n Peaceful, snug and warm',\n",
       " ' Soft fur, purring sound, \\n    Graceful, elegant creature, \\n    Feline friend, always.',\n",
       " ' Whiskers twitch at prey, \\n    Eyes dilate, ready to pounce, \\n    Hunter in the house.',\n",
       " ' Curled up in a ball, \\n    Sleeping peacefully all day, \\n    Cat nap supreme art.',\n",
       " ' Stretching languidly, \\n    Arching back with sleepy yawn, \\n    Lazy cat at rest.',\n",
       " ' Tail swishing, eyes wide, \\n    Ready to strike or to play, \\n    Agile acrobat.',\n",
       " ' Fluffy kittenhood, \\n    Playful paws and endless fun, \\n    Growing up too fast.',\n",
       " \" Independent streak, \\n    Aloof yet affectionate, \\n    Cat's eye view of life.\",\n",
       " ' Clever and cunning, \\n    Purrfect predator and thief, \\n    Mischief in their minds.',\n",
       " ' Silent feline stealth, \\n    Moving with grace and with ease, \\n    Master of sly tricks.',\n",
       " ' Zen-like repose, \\n     Serene kitty in sunbeams, \\n     Inner peace achieved.',\n",
       " \"Soft fur and bright eyes, \\n A feline's mystique intrigues, \\n Purring with delight.\",\n",
       " 'Curled up in the sun, \\n A contented ball of fluff, \\n Lazy afternoon.',\n",
       " 'Graceful and agile, \\n A hunter prowls through the night, \\n Silent and precise.',\n",
       " 'Feline intuition, \\n A sixth sense for danger near, \\n A warning to heed.',\n",
       " \"Playful and active, \\n A kitten's antics delight, \\n Endless entertainment.\",\n",
       " \"Mysterious friend, \\n A cat's affection is earned, \\n A loyal companion.\",\n",
       " \"Through cold winter days, \\n A cat's warmth is a treasure, \\n A cozy blanket.\",\n",
       " \"Stretching and lounging, \\n A cat's yoga poses tempt, \\n Calming deep within.\",\n",
       " \"Aloof and distant, \\n A cat's independence reigns, \\n Respect their boundaries.\",\n",
       " \"Dignity and poise, \\n A cat's elegance shines bright, \\n Royalty at heart.\",\n",
       " 'Graceful feline steps \\n Paws padding softly on ground \\n Whiskers twitch in peace',\n",
       " 'Eyes like shining gems \\n Curled up cozy on my lap \\n Purring sweet and low',\n",
       " 'Cats roam the night streets \\n Silhouettes in moonlight dark \\n Their secrets their own',\n",
       " 'Fluffy balls of fur \\n Playful kittens, wild and fun \\n Scamper round and round',\n",
       " 'Lurking in the brush \\n Stalking prey with stealth and craft \\n Majestic hunters',\n",
       " 'Brushing past your leg \\n Cats own their own domain \\n Proud and self-assured',\n",
       " 'Little lions lie \\n In sunbeams, warmth on their fur \\n Dreaming of their prey',\n",
       " 'Black cat silhouette \\n Mysterious and haunting \\n A creature of night',\n",
       " 'Lazy and content \\n Lazing on a windowsill \\n Watching birds in flight',\n",
       " 'Cat eyes, wide and green \\n Hypnotizing those that see \\n Feline magic strong.',\n",
       " ' Quiet and gentle, \\n Purrs a symphony of love, \\n A feline delight.',\n",
       " ' Soft and fluffy fur, \\n Whiskers twitch with every move, \\n Graceful and agile.',\n",
       " ' Tiptoeing through life, \\n Curiosity never ends, \\n Mysterious friend.',\n",
       " ' A prowling shadow, \\n Slithers through the dark of night, \\n Silent and watchful.',\n",
       " ' Playful and carefree, \\n Bouncing on paws of delight, \\n Joyful energy.',\n",
       " ' Soaking up sunlight, \\n Basking in the warmth of love, \\n Contented kitty.',\n",
       " \" A hunter's eyes gleam, \\n Focused on prey in the wild, \\n Fierce and formidable.\",\n",
       " ' Tangled in yarn balls, \\n A playful mischief maker, \\n Whiskers of delight.',\n",
       " ' A cozy lap cat, \\n Purring in a serene state, \\n Soothing and calming.',\n",
       " ' A loyal companion, \\n A trusted feline friend, \\n A purring confidant.',\n",
       " 'Soft paws and whiskers, \\n Silent hunters in the night, \\n Mysteries in fur.',\n",
       " \"Sleek, silky felines, \\n Grooming in the sun's warm rays, \\n Purring melodies.\",\n",
       " 'Graceful tigers prowl, \\n Majestic in the moonlight, \\n Roar of a kitten.',\n",
       " 'Lazily they rest, \\n Feline Zen masters at peace, \\n Contemplating life.',\n",
       " 'Paws padding along, \\n Whisker twitching in delight, \\n Curiosity.',\n",
       " 'Nimble as they play, \\n Springy and agile they leap, \\n Kittens at their best.',\n",
       " 'Warm sun on their fur, \\n Sleeping curled up in a ball, \\n Cozy feline dreams.',\n",
       " 'Bright eyes that sparkle, \\n A twitch of their catty nose, \\n Love in their own way.',\n",
       " 'Tail held high in pride, \\n Slinking and stalking their prey, \\n Cats always in charge.',\n",
       " 'Cats are magic, too, \\n Guardians of mystery, love, \\n And gentle purring.',\n",
       " 'Whiskers soft and fine \\n Purring low and contented \\n Cat lounges with grace',\n",
       " 'Eyes gleaming like jewels \\n Sleek form moves with elegance \\n Graceful predator',\n",
       " 'Curled up on my lap \\n Fur warmed by gentle sunshine \\n Contented kitty',\n",
       " \"Rough tongue licks my hand \\n Purring comfort in my ear \\n Cat's love never ends\",\n",
       " 'Silent hunter stalks \\n Tail twitching with anticipation  \\n Prey in sight, she strikes',\n",
       " 'Feline fascination  \\n Cats slink through the shadows  \\n Majestic beauty ',\n",
       " 'Soft fur and sharp claws  \\n Mysterious and independent  \\n Cats are a wonder',\n",
       " 'Golden eyes ablaze  \\n Sleek hide stretches and flexes  \\n Cats are living art',\n",
       " 'Sprawled out in the sun  \\n Eyes closed, purring in pleasure  \\n Cat knows how to relax.']"
      ]
     },
     "execution_count": 114,
     "metadata": {},
     "output_type": "execute_result"
    }
   ],
   "source": [
    "aggregate_haikus"
   ]
  },
  {
   "cell_type": "code",
   "execution_count": 115,
   "metadata": {},
   "outputs": [],
   "source": [
    "df = pd.DataFrame({\"text\": aggregate_haikus})\n",
    "df[\"label_str\"] = \"gpt-3.5-turbo\"\n",
    "df[\"label\"] = 0\n",
    "df.to_csv(\"../data/gpt_generated/labeled/labeled_gpt_cat_haikus_99.csv\", index=False)"
   ]
  },
  {
   "cell_type": "code",
   "execution_count": 116,
   "metadata": {},
   "outputs": [],
   "source": [
    "df2 = pd.read_csv(\"../data/gpt_generated/labeled/labeled_gpt_cat_haikus_99.csv\")"
   ]
  },
  {
   "cell_type": "code",
   "execution_count": 117,
   "metadata": {},
   "outputs": [
    {
     "data": {
      "text/html": [
       "<div>\n",
       "<style scoped>\n",
       "    .dataframe tbody tr th:only-of-type {\n",
       "        vertical-align: middle;\n",
       "    }\n",
       "\n",
       "    .dataframe tbody tr th {\n",
       "        vertical-align: top;\n",
       "    }\n",
       "\n",
       "    .dataframe thead th {\n",
       "        text-align: right;\n",
       "    }\n",
       "</style>\n",
       "<table border=\"1\" class=\"dataframe\">\n",
       "  <thead>\n",
       "    <tr style=\"text-align: right;\">\n",
       "      <th></th>\n",
       "      <th>text</th>\n",
       "      <th>label_str</th>\n",
       "      <th>label</th>\n",
       "    </tr>\n",
       "  </thead>\n",
       "  <tbody>\n",
       "    <tr>\n",
       "      <th>0</th>\n",
       "      <td>Graceful feline paws, \\n Silent hunter through...</td>\n",
       "      <td>gpt-3.5-turbo</td>\n",
       "      <td>0</td>\n",
       "    </tr>\n",
       "    <tr>\n",
       "      <th>1</th>\n",
       "      <td>Curled up in a ball, \\n Softly purring on my l...</td>\n",
       "      <td>gpt-3.5-turbo</td>\n",
       "      <td>0</td>\n",
       "    </tr>\n",
       "    <tr>\n",
       "      <th>2</th>\n",
       "      <td>Slender form and tail, \\n Eyes gleam with misc...</td>\n",
       "      <td>gpt-3.5-turbo</td>\n",
       "      <td>0</td>\n",
       "    </tr>\n",
       "    <tr>\n",
       "      <th>3</th>\n",
       "      <td>Whiskers twitching, alert, \\n Ears swiveling i...</td>\n",
       "      <td>gpt-3.5-turbo</td>\n",
       "      <td>0</td>\n",
       "    </tr>\n",
       "    <tr>\n",
       "      <th>4</th>\n",
       "      <td>Cuddly fur and ears, \\n Kitten eyes shining wi...</td>\n",
       "      <td>gpt-3.5-turbo</td>\n",
       "      <td>0</td>\n",
       "    </tr>\n",
       "    <tr>\n",
       "      <th>...</th>\n",
       "      <td>...</td>\n",
       "      <td>...</td>\n",
       "      <td>...</td>\n",
       "    </tr>\n",
       "    <tr>\n",
       "      <th>94</th>\n",
       "      <td>Silent hunter stalks \\n Tail twitching with an...</td>\n",
       "      <td>gpt-3.5-turbo</td>\n",
       "      <td>0</td>\n",
       "    </tr>\n",
       "    <tr>\n",
       "      <th>95</th>\n",
       "      <td>Feline fascination  \\n Cats slink through the ...</td>\n",
       "      <td>gpt-3.5-turbo</td>\n",
       "      <td>0</td>\n",
       "    </tr>\n",
       "    <tr>\n",
       "      <th>96</th>\n",
       "      <td>Soft fur and sharp claws  \\n Mysterious and in...</td>\n",
       "      <td>gpt-3.5-turbo</td>\n",
       "      <td>0</td>\n",
       "    </tr>\n",
       "    <tr>\n",
       "      <th>97</th>\n",
       "      <td>Golden eyes ablaze  \\n Sleek hide stretches an...</td>\n",
       "      <td>gpt-3.5-turbo</td>\n",
       "      <td>0</td>\n",
       "    </tr>\n",
       "    <tr>\n",
       "      <th>98</th>\n",
       "      <td>Sprawled out in the sun  \\n Eyes closed, purri...</td>\n",
       "      <td>gpt-3.5-turbo</td>\n",
       "      <td>0</td>\n",
       "    </tr>\n",
       "  </tbody>\n",
       "</table>\n",
       "<p>99 rows × 3 columns</p>\n",
       "</div>"
      ],
      "text/plain": [
       "                                                 text      label_str  label\n",
       "0   Graceful feline paws, \\n Silent hunter through...  gpt-3.5-turbo      0\n",
       "1   Curled up in a ball, \\n Softly purring on my l...  gpt-3.5-turbo      0\n",
       "2   Slender form and tail, \\n Eyes gleam with misc...  gpt-3.5-turbo      0\n",
       "3   Whiskers twitching, alert, \\n Ears swiveling i...  gpt-3.5-turbo      0\n",
       "4   Cuddly fur and ears, \\n Kitten eyes shining wi...  gpt-3.5-turbo      0\n",
       "..                                                ...            ...    ...\n",
       "94  Silent hunter stalks \\n Tail twitching with an...  gpt-3.5-turbo      0\n",
       "95  Feline fascination  \\n Cats slink through the ...  gpt-3.5-turbo      0\n",
       "96  Soft fur and sharp claws  \\n Mysterious and in...  gpt-3.5-turbo      0\n",
       "97  Golden eyes ablaze  \\n Sleek hide stretches an...  gpt-3.5-turbo      0\n",
       "98  Sprawled out in the sun  \\n Eyes closed, purri...  gpt-3.5-turbo      0\n",
       "\n",
       "[99 rows x 3 columns]"
      ]
     },
     "execution_count": 117,
     "metadata": {},
     "output_type": "execute_result"
    }
   ],
   "source": [
    "df2"
   ]
  },
  {
   "cell_type": "code",
   "execution_count": null,
   "metadata": {},
   "outputs": [],
   "source": []
  }
 ],
 "metadata": {
  "kernelspec": {
   "display_name": "DataScience",
   "language": "python",
   "name": "python3"
  },
  "language_info": {
   "codemirror_mode": {
    "name": "ipython",
    "version": 3
   },
   "file_extension": ".py",
   "mimetype": "text/x-python",
   "name": "python",
   "nbconvert_exporter": "python",
   "pygments_lexer": "ipython3",
   "version": "3.8.16"
  },
  "orig_nbformat": 4
 },
 "nbformat": 4,
 "nbformat_minor": 2
}
